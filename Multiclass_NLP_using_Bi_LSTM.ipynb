{
  "nbformat": 4,
  "nbformat_minor": 0,
  "metadata": {
    "colab": {
      "provenance": [],
      "toc_visible": true,
      "gpuType": "T4",
      "authorship_tag": "ABX9TyOnzto0ymfQ5CHXrKpV5loo",
      "include_colab_link": true
    },
    "kernelspec": {
      "name": "python3",
      "display_name": "Python 3"
    },
    "language_info": {
      "name": "python"
    },
    "accelerator": "GPU",
    "widgets": {
      "application/vnd.jupyter.widget-state+json": {
        "3d1ff0ece66a461fa67911d3ae4f9198": {
          "model_module": "@jupyter-widgets/controls",
          "model_name": "HBoxModel",
          "model_module_version": "1.5.0",
          "state": {
            "_dom_classes": [],
            "_model_module": "@jupyter-widgets/controls",
            "_model_module_version": "1.5.0",
            "_model_name": "HBoxModel",
            "_view_count": null,
            "_view_module": "@jupyter-widgets/controls",
            "_view_module_version": "1.5.0",
            "_view_name": "HBoxView",
            "box_style": "",
            "children": [
              "IPY_MODEL_efbb555db58f44f9bd5c25097eaa2843",
              "IPY_MODEL_59bd7a7effef48f5b01438e19341aadd",
              "IPY_MODEL_e8d8bd76096d4f90889e34c8f8810a00"
            ],
            "layout": "IPY_MODEL_e40a40b7c28e40bfa4d2ff4b147f3969"
          }
        },
        "efbb555db58f44f9bd5c25097eaa2843": {
          "model_module": "@jupyter-widgets/controls",
          "model_name": "HTMLModel",
          "model_module_version": "1.5.0",
          "state": {
            "_dom_classes": [],
            "_model_module": "@jupyter-widgets/controls",
            "_model_module_version": "1.5.0",
            "_model_name": "HTMLModel",
            "_view_count": null,
            "_view_module": "@jupyter-widgets/controls",
            "_view_module_version": "1.5.0",
            "_view_name": "HTMLView",
            "description": "",
            "description_tooltip": null,
            "layout": "IPY_MODEL_b0336dc6dd794bc9b851272cb40d04bd",
            "placeholder": "​",
            "style": "IPY_MODEL_f8e1c1de6a8546c39185d25aa1e755d0",
            "value": "100%"
          }
        },
        "59bd7a7effef48f5b01438e19341aadd": {
          "model_module": "@jupyter-widgets/controls",
          "model_name": "FloatProgressModel",
          "model_module_version": "1.5.0",
          "state": {
            "_dom_classes": [],
            "_model_module": "@jupyter-widgets/controls",
            "_model_module_version": "1.5.0",
            "_model_name": "FloatProgressModel",
            "_view_count": null,
            "_view_module": "@jupyter-widgets/controls",
            "_view_module_version": "1.5.0",
            "_view_name": "ProgressView",
            "bar_style": "success",
            "description": "",
            "description_tooltip": null,
            "layout": "IPY_MODEL_c1bdfb9cc11749519fefa64532cf8f81",
            "max": 3,
            "min": 0,
            "orientation": "horizontal",
            "style": "IPY_MODEL_85709a8cd7594dfe9ea05e5e210319a4",
            "value": 3
          }
        },
        "e8d8bd76096d4f90889e34c8f8810a00": {
          "model_module": "@jupyter-widgets/controls",
          "model_name": "HTMLModel",
          "model_module_version": "1.5.0",
          "state": {
            "_dom_classes": [],
            "_model_module": "@jupyter-widgets/controls",
            "_model_module_version": "1.5.0",
            "_model_name": "HTMLModel",
            "_view_count": null,
            "_view_module": "@jupyter-widgets/controls",
            "_view_module_version": "1.5.0",
            "_view_name": "HTMLView",
            "description": "",
            "description_tooltip": null,
            "layout": "IPY_MODEL_01afee0d0b414cb681893da7dbca3041",
            "placeholder": "​",
            "style": "IPY_MODEL_a6b1adabb9b54caab6b58419b773cf34",
            "value": " 3/3 [00:00&lt;00:00, 108.63it/s]"
          }
        },
        "e40a40b7c28e40bfa4d2ff4b147f3969": {
          "model_module": "@jupyter-widgets/base",
          "model_name": "LayoutModel",
          "model_module_version": "1.2.0",
          "state": {
            "_model_module": "@jupyter-widgets/base",
            "_model_module_version": "1.2.0",
            "_model_name": "LayoutModel",
            "_view_count": null,
            "_view_module": "@jupyter-widgets/base",
            "_view_module_version": "1.2.0",
            "_view_name": "LayoutView",
            "align_content": null,
            "align_items": null,
            "align_self": null,
            "border": null,
            "bottom": null,
            "display": null,
            "flex": null,
            "flex_flow": null,
            "grid_area": null,
            "grid_auto_columns": null,
            "grid_auto_flow": null,
            "grid_auto_rows": null,
            "grid_column": null,
            "grid_gap": null,
            "grid_row": null,
            "grid_template_areas": null,
            "grid_template_columns": null,
            "grid_template_rows": null,
            "height": null,
            "justify_content": null,
            "justify_items": null,
            "left": null,
            "margin": null,
            "max_height": null,
            "max_width": null,
            "min_height": null,
            "min_width": null,
            "object_fit": null,
            "object_position": null,
            "order": null,
            "overflow": null,
            "overflow_x": null,
            "overflow_y": null,
            "padding": null,
            "right": null,
            "top": null,
            "visibility": null,
            "width": null
          }
        },
        "b0336dc6dd794bc9b851272cb40d04bd": {
          "model_module": "@jupyter-widgets/base",
          "model_name": "LayoutModel",
          "model_module_version": "1.2.0",
          "state": {
            "_model_module": "@jupyter-widgets/base",
            "_model_module_version": "1.2.0",
            "_model_name": "LayoutModel",
            "_view_count": null,
            "_view_module": "@jupyter-widgets/base",
            "_view_module_version": "1.2.0",
            "_view_name": "LayoutView",
            "align_content": null,
            "align_items": null,
            "align_self": null,
            "border": null,
            "bottom": null,
            "display": null,
            "flex": null,
            "flex_flow": null,
            "grid_area": null,
            "grid_auto_columns": null,
            "grid_auto_flow": null,
            "grid_auto_rows": null,
            "grid_column": null,
            "grid_gap": null,
            "grid_row": null,
            "grid_template_areas": null,
            "grid_template_columns": null,
            "grid_template_rows": null,
            "height": null,
            "justify_content": null,
            "justify_items": null,
            "left": null,
            "margin": null,
            "max_height": null,
            "max_width": null,
            "min_height": null,
            "min_width": null,
            "object_fit": null,
            "object_position": null,
            "order": null,
            "overflow": null,
            "overflow_x": null,
            "overflow_y": null,
            "padding": null,
            "right": null,
            "top": null,
            "visibility": null,
            "width": null
          }
        },
        "f8e1c1de6a8546c39185d25aa1e755d0": {
          "model_module": "@jupyter-widgets/controls",
          "model_name": "DescriptionStyleModel",
          "model_module_version": "1.5.0",
          "state": {
            "_model_module": "@jupyter-widgets/controls",
            "_model_module_version": "1.5.0",
            "_model_name": "DescriptionStyleModel",
            "_view_count": null,
            "_view_module": "@jupyter-widgets/base",
            "_view_module_version": "1.2.0",
            "_view_name": "StyleView",
            "description_width": ""
          }
        },
        "c1bdfb9cc11749519fefa64532cf8f81": {
          "model_module": "@jupyter-widgets/base",
          "model_name": "LayoutModel",
          "model_module_version": "1.2.0",
          "state": {
            "_model_module": "@jupyter-widgets/base",
            "_model_module_version": "1.2.0",
            "_model_name": "LayoutModel",
            "_view_count": null,
            "_view_module": "@jupyter-widgets/base",
            "_view_module_version": "1.2.0",
            "_view_name": "LayoutView",
            "align_content": null,
            "align_items": null,
            "align_self": null,
            "border": null,
            "bottom": null,
            "display": null,
            "flex": null,
            "flex_flow": null,
            "grid_area": null,
            "grid_auto_columns": null,
            "grid_auto_flow": null,
            "grid_auto_rows": null,
            "grid_column": null,
            "grid_gap": null,
            "grid_row": null,
            "grid_template_areas": null,
            "grid_template_columns": null,
            "grid_template_rows": null,
            "height": null,
            "justify_content": null,
            "justify_items": null,
            "left": null,
            "margin": null,
            "max_height": null,
            "max_width": null,
            "min_height": null,
            "min_width": null,
            "object_fit": null,
            "object_position": null,
            "order": null,
            "overflow": null,
            "overflow_x": null,
            "overflow_y": null,
            "padding": null,
            "right": null,
            "top": null,
            "visibility": null,
            "width": null
          }
        },
        "85709a8cd7594dfe9ea05e5e210319a4": {
          "model_module": "@jupyter-widgets/controls",
          "model_name": "ProgressStyleModel",
          "model_module_version": "1.5.0",
          "state": {
            "_model_module": "@jupyter-widgets/controls",
            "_model_module_version": "1.5.0",
            "_model_name": "ProgressStyleModel",
            "_view_count": null,
            "_view_module": "@jupyter-widgets/base",
            "_view_module_version": "1.2.0",
            "_view_name": "StyleView",
            "bar_color": null,
            "description_width": ""
          }
        },
        "01afee0d0b414cb681893da7dbca3041": {
          "model_module": "@jupyter-widgets/base",
          "model_name": "LayoutModel",
          "model_module_version": "1.2.0",
          "state": {
            "_model_module": "@jupyter-widgets/base",
            "_model_module_version": "1.2.0",
            "_model_name": "LayoutModel",
            "_view_count": null,
            "_view_module": "@jupyter-widgets/base",
            "_view_module_version": "1.2.0",
            "_view_name": "LayoutView",
            "align_content": null,
            "align_items": null,
            "align_self": null,
            "border": null,
            "bottom": null,
            "display": null,
            "flex": null,
            "flex_flow": null,
            "grid_area": null,
            "grid_auto_columns": null,
            "grid_auto_flow": null,
            "grid_auto_rows": null,
            "grid_column": null,
            "grid_gap": null,
            "grid_row": null,
            "grid_template_areas": null,
            "grid_template_columns": null,
            "grid_template_rows": null,
            "height": null,
            "justify_content": null,
            "justify_items": null,
            "left": null,
            "margin": null,
            "max_height": null,
            "max_width": null,
            "min_height": null,
            "min_width": null,
            "object_fit": null,
            "object_position": null,
            "order": null,
            "overflow": null,
            "overflow_x": null,
            "overflow_y": null,
            "padding": null,
            "right": null,
            "top": null,
            "visibility": null,
            "width": null
          }
        },
        "a6b1adabb9b54caab6b58419b773cf34": {
          "model_module": "@jupyter-widgets/controls",
          "model_name": "DescriptionStyleModel",
          "model_module_version": "1.5.0",
          "state": {
            "_model_module": "@jupyter-widgets/controls",
            "_model_module_version": "1.5.0",
            "_model_name": "DescriptionStyleModel",
            "_view_count": null,
            "_view_module": "@jupyter-widgets/base",
            "_view_module_version": "1.2.0",
            "_view_name": "StyleView",
            "description_width": ""
          }
        }
      }
    }
  },
  "cells": [
    {
      "cell_type": "markdown",
      "metadata": {
        "id": "view-in-github",
        "colab_type": "text"
      },
      "source": [
        "<a href=\"https://colab.research.google.com/github/DanYT2/machine_learning/blob/main/Multiclass_NLP_using_Bi_LSTM.ipynb\" target=\"_parent\"><img src=\"https://colab.research.google.com/assets/colab-badge.svg\" alt=\"Open In Colab\"/></a>"
      ]
    },
    {
      "cell_type": "code",
      "execution_count": 2,
      "metadata": {
        "id": "YQ8_mbcCU-uL"
      },
      "outputs": [],
      "source": [
        "!pip install datasets -q"
      ]
    },
    {
      "cell_type": "code",
      "source": [
        "import pandas as pd\n",
        "import numpy as np\n",
        "from tensorflow.keras.preprocessing.sequence import pad_sequences\n",
        "from tensorflow.keras.preprocessing.text import Tokenizer\n",
        "from datasets import load_dataset\n",
        "\n",
        "import tensorflow as tf\n",
        "from tensorflow.keras.models import Sequential, load_model\n",
        "from tensorflow.keras.layers import Embedding, LSTM, Dense, GRU\n",
        "\n",
        "import matplotlib.pyplot as plt"
      ],
      "metadata": {
        "id": "WaQwk6ErVO5e"
      },
      "execution_count": 3,
      "outputs": []
    },
    {
      "cell_type": "code",
      "source": [
        "from IPython.utils import text\n",
        "data = load_dataset('masakhane/masakhanews', 'swa')\n",
        "\n",
        "texts = data['train']['headline'] + data['test']['headline'] + data['validation']['headline']\n",
        "labels = data['train']['label'] + data['test']['label'] + data['validation']['label']\n",
        "\n",
        "print(len(texts))\n",
        "print(len(labels))\n",
        "\n",
        "print(texts[:5])"
      ],
      "metadata": {
        "colab": {
          "base_uri": "https://localhost:8080/",
          "height": 138,
          "referenced_widgets": [
            "3d1ff0ece66a461fa67911d3ae4f9198",
            "efbb555db58f44f9bd5c25097eaa2843",
            "59bd7a7effef48f5b01438e19341aadd",
            "e8d8bd76096d4f90889e34c8f8810a00",
            "e40a40b7c28e40bfa4d2ff4b147f3969",
            "b0336dc6dd794bc9b851272cb40d04bd",
            "f8e1c1de6a8546c39185d25aa1e755d0",
            "c1bdfb9cc11749519fefa64532cf8f81",
            "85709a8cd7594dfe9ea05e5e210319a4",
            "01afee0d0b414cb681893da7dbca3041",
            "a6b1adabb9b54caab6b58419b773cf34"
          ]
        },
        "id": "kBCYR-UoWP5P",
        "outputId": "0e9b55eb-09fc-471e-bf8e-dd409c5396b9"
      },
      "execution_count": 4,
      "outputs": [
        {
          "output_type": "stream",
          "name": "stderr",
          "text": [
            "WARNING:datasets.builder:Found cached dataset masakhanews (/root/.cache/huggingface/datasets/masakhane___masakhanews/swa/1.0.0/c60334474cec1d13c0c3018e138cd8b60bc6443fa5e25258d65d990b2498403f)\n"
          ]
        },
        {
          "output_type": "display_data",
          "data": {
            "text/plain": [
              "  0%|          | 0/3 [00:00<?, ?it/s]"
            ],
            "application/vnd.jupyter.widget-view+json": {
              "version_major": 2,
              "version_minor": 0,
              "model_id": "3d1ff0ece66a461fa67911d3ae4f9198"
            }
          },
          "metadata": {}
        },
        {
          "output_type": "stream",
          "name": "stdout",
          "text": [
            "2371\n",
            "2371\n",
            "['Tetesi za soka Ulaya Jumatatu 26.04.2021: Varane, Camara, Nagelsmann, Willock, Azpilicueta', 'Je chanjo ya corona ni salama?', 'Matokeo ya uchaguzi Marekani 2020: Donald Trump amfuta kazi Waziri wa Ulinzi Mark Esper', 'Je wajua mwanamke na mwanaume hawapaswi kufanya mazoezi pamoja?', 'Watoto waliolazimika kuwa kimya kuhusu baba zao wakutana na maaskofu jijini Paris']\n"
          ]
        }
      ]
    },
    {
      "cell_type": "code",
      "source": [
        "training_portion = 0.8\n",
        "\n",
        "train_size = int(len(texts) * training_portion)\n",
        "train_size"
      ],
      "metadata": {
        "colab": {
          "base_uri": "https://localhost:8080/"
        },
        "id": "DbWE0bkYXTVo",
        "outputId": "9d93df72-bea0-453d-f1b3-047ce94c6a8d"
      },
      "execution_count": 5,
      "outputs": [
        {
          "output_type": "execute_result",
          "data": {
            "text/plain": [
              "1896"
            ]
          },
          "metadata": {},
          "execution_count": 5
        }
      ]
    },
    {
      "cell_type": "code",
      "source": [
        "train_texts = texts[0:train_size]\n",
        "train_labels = labels[0:train_size]\n",
        "\n",
        "val_texts = texts[train_size:]\n",
        "val_labels = labels[train_size:]\n",
        "\n",
        "print(len(train_texts), len(val_texts))"
      ],
      "metadata": {
        "colab": {
          "base_uri": "https://localhost:8080/"
        },
        "id": "KS1nk4fYX0Yv",
        "outputId": "9c3387a7-efe9-4ebb-a6ca-918fa977025d"
      },
      "execution_count": 6,
      "outputs": [
        {
          "output_type": "stream",
          "name": "stdout",
          "text": [
            "1896 475\n"
          ]
        }
      ]
    },
    {
      "cell_type": "code",
      "source": [
        "train_labels = np.array(train_labels)\n",
        "val_labels = np.array(val_labels)"
      ],
      "metadata": {
        "id": "nw-ZwwpkYikN"
      },
      "execution_count": 7,
      "outputs": []
    },
    {
      "cell_type": "code",
      "source": [
        "vocab_size = 10000\n",
        "\n",
        "tokenizer = Tokenizer(num_words = vocab_size, oov_token = '<OOV>')\n",
        "tokenizer.fit_on_texts(train_texts)\n",
        "word_index = tokenizer.word_index"
      ],
      "metadata": {
        "id": "KFQFcvDKYzUD"
      },
      "execution_count": 8,
      "outputs": []
    },
    {
      "cell_type": "code",
      "source": [
        "max_len = 200\n",
        "padding_type = 'post'\n",
        "trunc_type = 'post'"
      ],
      "metadata": {
        "id": "F93vTY8NbJxn"
      },
      "execution_count": 9,
      "outputs": []
    },
    {
      "cell_type": "code",
      "source": [
        "train_seq = tokenizer.texts_to_sequences(train_texts)\n",
        "train_seq = pad_sequences(train_seq, maxlen = max_len, padding = padding_type, truncating = trunc_type)\n",
        "\n",
        "val_seq = tokenizer.texts_to_sequences(val_texts)\n",
        "val_seq = pad_sequences(val_seq, maxlen = max_len, padding = padding_type, truncating = trunc_type)\n",
        "\n",
        "print(train_seq.shape)\n",
        "print(train_labels.shape)\n",
        "\n",
        "print(val_seq.shape)\n",
        "print(val_labels.shape)"
      ],
      "metadata": {
        "colab": {
          "base_uri": "https://localhost:8080/"
        },
        "id": "pGFQm2PNb971",
        "outputId": "78b2ad6e-a880-4acb-c6f2-58eb039135bc"
      },
      "execution_count": 10,
      "outputs": [
        {
          "output_type": "stream",
          "name": "stdout",
          "text": [
            "(1896, 200)\n",
            "(1896,)\n",
            "(475, 200)\n",
            "(475,)\n"
          ]
        }
      ]
    },
    {
      "cell_type": "code",
      "source": [
        "print(set(train_labels))\n",
        "print(len(set(train_labels)))"
      ],
      "metadata": {
        "colab": {
          "base_uri": "https://localhost:8080/"
        },
        "id": "ojYVulTrgxwe",
        "outputId": "09005966-16ee-4c87-a4bc-3ad05b9eec5f"
      },
      "execution_count": 11,
      "outputs": [
        {
          "output_type": "stream",
          "name": "stdout",
          "text": [
            "{0, 1, 2, 3, 4, 5, 6}\n",
            "7\n"
          ]
        }
      ]
    },
    {
      "cell_type": "code",
      "source": [
        "# Embedding - Bi-LSTM - Dense - Dense\n",
        "model = tf.keras.Sequential([\n",
        "    tf.keras.layers.Embedding(10000, 64),\n",
        "    tf.keras.layers.Bidirectional(tf.keras.layers.LSTM(64)),\n",
        "    tf.keras.layers.Dense(64, activation = 'relu'),\n",
        "    tf.keras.layers.Dense(7, activation = 'softmax')\n",
        "])\n",
        "\n",
        "model.summary()"
      ],
      "metadata": {
        "colab": {
          "base_uri": "https://localhost:8080/"
        },
        "id": "w3G68jRQcxkq",
        "outputId": "8be94f42-688b-40ab-c928-3748e67825b2"
      },
      "execution_count": 12,
      "outputs": [
        {
          "output_type": "stream",
          "name": "stdout",
          "text": [
            "Model: \"sequential\"\n",
            "_________________________________________________________________\n",
            " Layer (type)                Output Shape              Param #   \n",
            "=================================================================\n",
            " embedding (Embedding)       (None, None, 64)          640000    \n",
            "                                                                 \n",
            " bidirectional (Bidirectiona  (None, 128)              66048     \n",
            " l)                                                              \n",
            "                                                                 \n",
            " dense (Dense)               (None, 64)                8256      \n",
            "                                                                 \n",
            " dense_1 (Dense)             (None, 7)                 455       \n",
            "                                                                 \n",
            "=================================================================\n",
            "Total params: 714,759\n",
            "Trainable params: 714,759\n",
            "Non-trainable params: 0\n",
            "_________________________________________________________________\n"
          ]
        }
      ]
    },
    {
      "cell_type": "code",
      "source": [
        "model.compile(\n",
        "    loss = 'sparse_categorical_crossentropy',\n",
        "    optimizer = 'adam',\n",
        "    metrics = ['accuracy']\n",
        ")"
      ],
      "metadata": {
        "id": "4oEkJaVChrVL"
      },
      "execution_count": 13,
      "outputs": []
    },
    {
      "cell_type": "code",
      "source": [
        "hist = model.fit(train_seq, train_labels, epochs = 20, validation_data = [val_seq, val_labels], verbose=2)"
      ],
      "metadata": {
        "colab": {
          "base_uri": "https://localhost:8080/"
        },
        "id": "P0YO86LgjN_f",
        "outputId": "685ea283-6845-4534-9671-4d1e4ffa329b"
      },
      "execution_count": 14,
      "outputs": [
        {
          "output_type": "stream",
          "name": "stdout",
          "text": [
            "Epoch 1/20\n",
            "60/60 - 29s - loss: 1.7496 - accuracy: 0.3154 - val_loss: 1.5031 - val_accuracy: 0.4000 - 29s/epoch - 476ms/step\n",
            "Epoch 2/20\n",
            "60/60 - 12s - loss: 1.9152 - accuracy: 0.4140 - val_loss: 1.7134 - val_accuracy: 0.4105 - 12s/epoch - 195ms/step\n",
            "Epoch 3/20\n",
            "60/60 - 7s - loss: 1.5087 - accuracy: 0.5211 - val_loss: 1.4899 - val_accuracy: 0.4589 - 7s/epoch - 123ms/step\n",
            "Epoch 4/20\n",
            "60/60 - 2s - loss: 1.2186 - accuracy: 0.5849 - val_loss: 1.2699 - val_accuracy: 0.5137 - 2s/epoch - 36ms/step\n",
            "Epoch 5/20\n",
            "60/60 - 1s - loss: 0.9314 - accuracy: 0.7031 - val_loss: 1.1975 - val_accuracy: 0.5684 - 1s/epoch - 18ms/step\n",
            "Epoch 6/20\n",
            "60/60 - 2s - loss: 0.6577 - accuracy: 0.7959 - val_loss: 1.1465 - val_accuracy: 0.5558 - 2s/epoch - 27ms/step\n",
            "Epoch 7/20\n",
            "60/60 - 2s - loss: 0.7066 - accuracy: 0.7853 - val_loss: 1.8114 - val_accuracy: 0.3853 - 2s/epoch - 30ms/step\n",
            "Epoch 8/20\n",
            "60/60 - 2s - loss: 0.7547 - accuracy: 0.7648 - val_loss: 1.1690 - val_accuracy: 0.5495 - 2s/epoch - 26ms/step\n",
            "Epoch 9/20\n",
            "60/60 - 1s - loss: 0.4820 - accuracy: 0.8787 - val_loss: 1.1710 - val_accuracy: 0.5832 - 1s/epoch - 23ms/step\n",
            "Epoch 10/20\n",
            "60/60 - 2s - loss: 0.3266 - accuracy: 0.9246 - val_loss: 1.2049 - val_accuracy: 0.5979 - 2s/epoch - 39ms/step\n",
            "Epoch 11/20\n",
            "60/60 - 1s - loss: 0.2146 - accuracy: 0.9541 - val_loss: 1.3639 - val_accuracy: 0.5768 - 1s/epoch - 19ms/step\n",
            "Epoch 12/20\n",
            "60/60 - 1s - loss: 0.1506 - accuracy: 0.9589 - val_loss: 1.3896 - val_accuracy: 0.6000 - 1s/epoch - 18ms/step\n",
            "Epoch 13/20\n",
            "60/60 - 1s - loss: 0.1114 - accuracy: 0.9752 - val_loss: 1.4719 - val_accuracy: 0.6126 - 1s/epoch - 18ms/step\n",
            "Epoch 14/20\n",
            "60/60 - 1s - loss: 0.0814 - accuracy: 0.9879 - val_loss: 1.6868 - val_accuracy: 0.5789 - 1s/epoch - 22ms/step\n",
            "Epoch 15/20\n",
            "60/60 - 1s - loss: 0.0631 - accuracy: 0.9931 - val_loss: 1.8699 - val_accuracy: 0.5558 - 1s/epoch - 18ms/step\n",
            "Epoch 16/20\n",
            "60/60 - 1s - loss: 0.0473 - accuracy: 0.9968 - val_loss: 1.9583 - val_accuracy: 0.5621 - 1s/epoch - 18ms/step\n",
            "Epoch 17/20\n",
            "60/60 - 1s - loss: 0.0353 - accuracy: 0.9984 - val_loss: 2.0682 - val_accuracy: 0.5600 - 857ms/epoch - 14ms/step\n",
            "Epoch 18/20\n",
            "60/60 - 1s - loss: 0.0279 - accuracy: 0.9984 - val_loss: 2.1786 - val_accuracy: 0.5579 - 1s/epoch - 19ms/step\n",
            "Epoch 19/20\n",
            "60/60 - 1s - loss: 0.0241 - accuracy: 0.9979 - val_loss: 2.3116 - val_accuracy: 0.5579 - 1s/epoch - 18ms/step\n",
            "Epoch 20/20\n",
            "60/60 - 1s - loss: 0.0166 - accuracy: 0.9995 - val_loss: 2.4352 - val_accuracy: 0.5495 - 1s/epoch - 20ms/step\n"
          ]
        }
      ]
    },
    {
      "cell_type": "code",
      "source": [
        "def plot(history, string):\n",
        "  plt.plot(history.history[string])\n",
        "  plt.plot(history.history['val_'+string])\n",
        "  plt.xlabel('epochs')\n",
        "  plt.ylabel(string)\n",
        "  plt.legend([string, 'val_'+string])\n",
        "  plt.show()\n",
        "\n",
        "plot(hist, 'accuracy')\n",
        "plot(hist, 'loss')"
      ],
      "metadata": {
        "colab": {
          "base_uri": "https://localhost:8080/",
          "height": 881
        },
        "id": "D_niDhREjkUC",
        "outputId": "17483a4d-f33e-4af4-d1a2-3ff89a147767"
      },
      "execution_count": 15,
      "outputs": [
        {
          "output_type": "display_data",
          "data": {
            "text/plain": [
              "<Figure size 640x480 with 1 Axes>"
            ],
            "image/png": "[encoded data removed]"
          },
          "metadata": {}
        },
        {
          "output_type": "display_data",
          "data": {
            "text/plain": [
              "<Figure size 640x480 with 1 Axes>"
            ],
            "image/png": "[encoded data removed]"
          },
          "metadata": {}
        }
      ]
    },
    {
      "cell_type": "code",
      "source": [
        "model.save('mclass.h5')"
      ],
      "metadata": {
        "id": "a3rhJUxkkwv2"
      },
      "execution_count": 16,
      "outputs": []
    },
    {
      "cell_type": "code",
      "source": [
        "# save tokenizer\n",
        "import pickle\n",
        "\n",
        "with open('tok.pickle', 'wb') as handle:\n",
        "  pickle.dump(tokenizer, handle, protocol=pickle.HIGHEST_PROTOCOL)"
      ],
      "metadata": {
        "id": "O9J2euTunczx"
      },
      "execution_count": 17,
      "outputs": []
    },
    {
      "cell_type": "code",
      "source": [],
      "metadata": {
        "id": "nRSaxpCyoRdj"
      },
      "execution_count": null,
      "outputs": []
    }
  ]
}