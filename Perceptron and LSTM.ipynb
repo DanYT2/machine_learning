{
  "nbformat": 4,
  "nbformat_minor": 0,
  "metadata": {
    "colab": {
      "provenance": [],
      "toc_visible": true,
      "authorship_tag": "ABX9TyPWuAW7RNHR7fsD3UUMZgRg",
      "include_colab_link": true
    },
    "kernelspec": {
      "name": "python3",
      "display_name": "Python 3"
    },
    "language_info": {
      "name": "python"
    }
  },
  "cells": [
    {
      "cell_type": "markdown",
      "metadata": {
        "id": "view-in-github",
        "colab_type": "text"
      },
      "source": [
        "<a href=\"https://colab.research.google.com/github/DanYT2/machine_learning/blob/main/Perceptron%20and%20LSTM.ipynb\" target=\"_parent\"><img src=\"https://colab.research.google.com/assets/colab-badge.svg\" alt=\"Open In Colab\"/></a>"
      ]
    },
    {
      "cell_type": "code",
      "execution_count": null,
      "metadata": {
        "id": "1PzfDyFQYwux"
      },
      "outputs": [],
      "source": [
        "import numpy as np\n",
        "import tensorflow as tf"
      ]
    },
    {
      "cell_type": "code",
      "source": [
        "inputs = np.array([\n",
        "    [0, 0],\n",
        "    [0, 1],\n",
        "    [1, 0],\n",
        "    [1, 1]\n",
        "])\n",
        "\n",
        "targets = np.array([0, 1, 1, 0])"
      ],
      "metadata": {
        "id": "GeMSyEdDY0DS"
      },
      "execution_count": null,
      "outputs": []
    },
    {
      "cell_type": "code",
      "source": [
        "class Perceptron:\n",
        "  def __init__(self, num_inputs, lr = 0.1):\n",
        "    self.weights = np.zeros(num_inputs)\n",
        "    self.bias = 0\n",
        "    self.lr = lr\n",
        "\n",
        "  def predict(self, inputs):\n",
        "    weighted_sum = np.dot(inputs, self.weights) + self.bias\n",
        "    output = 1 if weighted_sum > 0 else 0\n",
        "    return output\n"
      ],
      "metadata": {
        "id": "Z9XbSUgdZIDO"
      },
      "execution_count": null,
      "outputs": []
    },
    {
      "cell_type": "code",
      "source": [
        "# Create neuron (perceptron)\n",
        "\n",
        "clf = Perceptron(num_inputs=2, lr=0.1)\n",
        "\n",
        "for i in range(100):\n",
        "  for input_data, target in zip(inputs, targets):\n",
        "    prediction = clf.predict(input_data)\n",
        "    error = target - prediction\n",
        "\n",
        "    clf.weights += clf.lr * error * input_data\n",
        "    clf.bias += clf.lr + error"
      ],
      "metadata": {
        "id": "RCyk4H18aC20"
      },
      "execution_count": null,
      "outputs": []
    },
    {
      "cell_type": "code",
      "source": [
        "# Testing\n",
        "print('Input\\t\\tOutput')\n",
        "for input_data in inputs:\n",
        "  prediction = clf.predict(input_data)\n",
        "  print(f\"{input_data}\\t\\t{prediction}\")"
      ],
      "metadata": {
        "colab": {
          "base_uri": "https://localhost:8080/"
        },
        "id": "-H9P6uNUbRNw",
        "outputId": "3b603428-1b8b-43b6-c8ef-2a34f4ae5954"
      },
      "execution_count": null,
      "outputs": [
        {
          "output_type": "stream",
          "name": "stdout",
          "text": [
            "Input\t\tOutput\n",
            "[0 0]\t\t1\n",
            "[0 1]\t\t1\n",
            "[1 0]\t\t0\n",
            "[1 1]\t\t0\n"
          ]
        }
      ]
    },
    {
      "cell_type": "code",
      "source": [
        "# Reshape inputs for LSTM\n",
        "\n",
        "inputs = np.reshape(inputs, (inputs.shape[0], inputs.shape[1], 1))"
      ],
      "metadata": {
        "id": "61Lj2BIdcZZA"
      },
      "execution_count": null,
      "outputs": []
    },
    {
      "cell_type": "code",
      "source": [
        "from keras.layers.serialization import activation\n",
        "model = tf.keras.Sequential([\n",
        "    tf.keras.layers.LSTM(units=4, input_shape=(2,1)),\n",
        "    tf.keras.layers.Dense(units=1, activation='sigmoid')\n",
        "])\n",
        "\n",
        "model.compile(optimizer='adam', loss='binary_crossentropy', metrics=['accuracy'])\n",
        "model.fit(inputs, targets, epochs=500, verbose=0)\n",
        "\n",
        "predictions = model.predict(inputs)\n",
        "predictions = np.round(predictions).flatten()\n",
        "\n",
        "print('Input\\t\\tOutput')\n",
        "for input_data, prediction in zip(inputs, predictions):\n",
        "  print(f\"{input_data}\\t\\t{prediction}\")"
      ],
      "metadata": {
        "colab": {
          "base_uri": "https://localhost:8080/"
        },
        "id": "u9ARvaVZcl_2",
        "outputId": "9bb429aa-1d72-4fb9-8212-d866849023db"
      },
      "execution_count": null,
      "outputs": [
        {
          "output_type": "stream",
          "name": "stdout",
          "text": [
            "1/1 [==============================] - 1s 895ms/step\n",
            "Input\t\tOutput\n",
            "[[0]\n",
            " [0]]\t\t0.0\n",
            "[[0]\n",
            " [1]]\t\t1.0\n",
            "[[1]\n",
            " [0]]\t\t1.0\n",
            "[[1]\n",
            " [1]]\t\t0.0\n"
          ]
        }
      ]
    },
    {
      "cell_type": "code",
      "source": [],
      "metadata": {
        "id": "J9uCRAhAegYz"
      },
      "execution_count": null,
      "outputs": []
    }
  ]
}